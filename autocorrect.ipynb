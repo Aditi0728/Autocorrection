{
 "cells": [
  {
   "cell_type": "code",
   "execution_count": null,
   "id": "9c00cb51",
   "metadata": {},
   "outputs": [],
   "source": [
    "import nltk"
   ]
  },
  {
   "cell_type": "code",
   "execution_count": null,
   "id": "9aa60d16",
   "metadata": {},
   "outputs": [],
   "source": [
    "import numpy as np"
   ]
  },
  {
   "cell_type": "code",
   "execution_count": null,
   "id": "1eb88b88",
   "metadata": {},
   "outputs": [],
   "source": [
    "import re\n",
    " \n",
    "w = []\n",
    "\n",
    "with open('final.txt', 'r', encoding=\"utf8\") as f:\n",
    "    file_name_data = f.read()\n",
    "    file_name_data = file_name_data.lower()\n",
    "    w = re.findall('\\w+', file_name_data)\n",
    "\n",
    "main_set = set(w)"
   ]
  },
  {
   "cell_type": "code",
   "execution_count": null,
   "id": "660e0454",
   "metadata": {},
   "outputs": [],
   "source": [
    "def counting_words(words):\n",
    "    word_count = {}\n",
    "    for word in words:\n",
    "        if word in word_count:\n",
    "            word_count[word] += 1\n",
    "        else:\n",
    "            word_count[word] = 1\n",
    "    return word_count"
   ]
  },
  {
   "cell_type": "code",
   "execution_count": null,
   "id": "86fbe130",
   "metadata": {},
   "outputs": [],
   "source": [
    "def prob_cal(word_count_dict):\n",
    "    probs = {}\n",
    "    m = sum(word_count_dict.values())\n",
    "    for key in word_count_dict.keys():\n",
    "        probs[key] = word_count_dict[key] / m\n",
    "    return probs"
   ]
  },
  {
   "cell_type": "code",
   "execution_count": null,
   "id": "479b194d",
   "metadata": {},
   "outputs": [],
   "source": [
    "import pattern\n",
    "from pattern.en import lemma, lexeme\n",
    "from nltk.stem import WordNetLemmatizer\n",
    " \n",
    " \n",
    "def LemmWord(word):\n",
    "    return list(lexeme(wd) for wd in word.split())[0]"
   ]
  },
  {
   "cell_type": "code",
   "execution_count": null,
   "id": "4a53f256",
   "metadata": {},
   "outputs": [],
   "source": [
    "def DeleteLetter(word):\n",
    "    delete_list = []\n",
    "    split_list = []\n",
    " \n",
    "    for i in range(len(word)):\n",
    "        split_list.append((word[0:i], word[i:]))\n",
    " \n",
    "    for a, b in split_list:\n",
    "        delete_list.append(a + b[1:])\n",
    "    return delete_list"
   ]
  },
  {
   "cell_type": "code",
   "execution_count": null,
   "id": "b1ed2099",
   "metadata": {},
   "outputs": [],
   "source": [
    "def Switch_(word):\n",
    "    split_list = []\n",
    "    switch_l = []\n",
    " \n",
    "    for i in range(len(word)):\n",
    "        split_list.append((word[0:i], word[i:]))\n",
    "     \n",
    "    switch_l = [a + b[1] + b[0] + b[2:] for a, b in split_list if len(b) >= 2]\n",
    "    return switch_l"
   ]
  },
  {
   "cell_type": "code",
   "execution_count": null,
   "id": "29c03a78",
   "metadata": {},
   "outputs": [],
   "source": [
    "def Replace_(word):\n",
    "    split_l = []\n",
    "    replace_list = []\n",
    " \n",
    "    for i in range(len(word)):\n",
    "        split_l.append((word[0:i], word[i:]))\n",
    "    alphs = 'abcdefghijklmnopqrstuvwxyz'\n",
    "    replace_list = [a + l + (b[1:] if len(b) > 1 else '')\n",
    "                    for a, b in split_l if b for l in alphs]\n",
    "    return replace_list"
   ]
  },
  {
   "cell_type": "code",
   "execution_count": null,
   "id": "3d960909",
   "metadata": {},
   "outputs": [],
   "source": [
    "def insert_(word):\n",
    "    split_l = []\n",
    "    insert_list = []\n",
    " \n",
    "    for i in range(len(word) + 1):\n",
    "        split_l.append((word[0:i], word[i:]))\n",
    " \n",
    "    alphs = 'abcdefghijklmnopqrstuvwxyz'\n",
    "    insert_list = [a + l + b for a, b in split_l for l in alphs]\n",
    "    return insert_list"
   ]
  },
  {
   "cell_type": "code",
   "execution_count": null,
   "id": "e428c4e9",
   "metadata": {},
   "outputs": [],
   "source": [
    "def colab_1(word, allow_switches=True):\n",
    "    colab_1 = set()\n",
    "    colab_1.update(DeleteLetter(word))\n",
    "    if allow_switches:\n",
    "        colab_1.update(Switch_(word))\n",
    "    colab_1.update(Replace_(word))\n",
    "    colab_1.update(insert_(word))\n",
    "    return colab_1\n",
    " \n",
    "def colab_2(word, allow_switches=True):\n",
    "    colab_2 = set()\n",
    "    edit_one = colab_1(word, allow_switches=allow_switches)\n",
    "    for w in edit_one:\n",
    "        if w:\n",
    "            edit_two = colab_1(w, allow_switches=allow_switches)\n",
    "            colab_2.update(edit_two)\n",
    "    return colab_2"
   ]
  },
  {
   "cell_type": "code",
   "execution_count": null,
   "id": "bb68ddfe",
   "metadata": {},
   "outputs": [],
   "source": [
    "def get_corrections(word, probs, vocab, n=2):\n",
    "    suggested_word = []\n",
    "    best_suggestion = []\n",
    "    suggested_word = list(\n",
    "        (word in vocab and word) or colab_1(word).intersection(vocab)\n",
    "        or colab_2(word).intersection(\n",
    "            vocab))\n",
    "\n",
    "    best_suggestion = [[s, probs[s]] for s in list(reversed(suggested_word))]\n",
    "    return best_suggestion"
   ]
  },
  {
   "cell_type": "code",
   "execution_count": null,
   "id": "d5ff189d",
   "metadata": {},
   "outputs": [],
   "source": [
    "\n",
    "my_word = input(\"Enter any word:\")\n",
    " \n",
    "word_count = counting_words(main_set)\n",
    " \n",
    "probs = probab_cal(word_count)\n",
    " \n",
    "tmp_corrections = get_corrections(my_word, probs, main_set, 2)\n",
    "for i, word_prob in enumerate(tmp_corrections):\n",
    "    if(i < 3):\n",
    "        print(word_prob[0])\n",
    "    else:\n",
    "        break"
   ]
  }
 ],
 "metadata": {
  "kernelspec": {
   "display_name": "Python 3 (ipykernel)",
   "language": "python",
   "name": "python3"
  },
  "language_info": {
   "codemirror_mode": {
    "name": "ipython",
    "version": 3
   },
   "file_extension": ".py",
   "mimetype": "text/x-python",
   "name": "python",
   "nbconvert_exporter": "python",
   "pygments_lexer": "ipython3",
   "version": "3.7.5"
  }
 },
 "nbformat": 4,
 "nbformat_minor": 5
}
